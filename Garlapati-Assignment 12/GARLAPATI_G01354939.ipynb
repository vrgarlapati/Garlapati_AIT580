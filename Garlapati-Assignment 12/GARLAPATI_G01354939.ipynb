{
 "cells": [
  {
   "cell_type": "code",
   "execution_count": 2,
   "id": "1b0a102d",
   "metadata": {},
   "outputs": [],
   "source": [
    "#Assignment 12 - Web Scrapping using Python\n",
    "\n",
    "# Name: VIDEESH REDDY GARLAPATI\n",
    "# G Number - G01354939\n",
    "\n",
    "import requests\n",
    "import urllib3\n",
    "import csv\n",
    "import pandas as pd\n",
    "\n",
    "\n",
    "urllib3.disable_warnings()\n",
    "r = requests.get('https://repo.vse.gmu.edu/ait/AIT580/580books.html', verify=False)\n",
    "\n",
    "from bs4 import BeautifulSoup\n",
    "soup = BeautifulSoup(r.text, 'html.parser')\n",
    "results = soup.find_all('td', attrs={'valign':'top'})\n",
    "\n",
    "table_of_books = soup.table\n",
    "with open('Books_of_python.csv', 'w') as racks:\n",
    "   stacker = csv.writer(racks)\n",
    "   for tr in table_of_books.find_all('tr'):\n",
    "       each_row = []\n",
    "       for td in tr.find_all('td'):\n",
    "           # print(td.get_text())\n",
    "           what = td.get_text()\n",
    "           if td.a != None:\n",
    "               a_tag = td.a\n",
    "               what = what + '-' + a_tag.attrs[\"href\"]\n",
    "           # print(td.find_all('a'))\n",
    "           each_row.append(what)\n",
    "       stacker.writerow(each_row)\n",
    "   racks.close()"
   ]
  },
  {
   "cell_type": "code",
   "execution_count": 8,
   "id": "4b5908b6",
   "metadata": {},
   "outputs": [
    {
     "name": "stdout",
     "output_type": "stream",
     "text": [
      "Publisher\\r\\n      \n",
      "O'Reilly Media         4\n",
      "Packt Publishing       2\n",
      "Elsevier / Syngress    1\n",
      "Maker Media, Inc       1\n",
      "No Starch Press        1\n",
      "Pragmatic Bookshelf    1\n",
      "dtype: int64\n"
     ]
    }
   ],
   "source": [
    "\n",
    "# 2.a Print the frequency count for publishers (that is, how many books for each publisher)\n",
    "\n",
    "import matplotlib.pyplot as plt\n",
    "\n",
    "df = pd.read_csv('Books_of_python.csv')\n",
    "Freq_count = df['Publisher\\r\\n'].to_frame()\n",
    "print(Freq_count.value_counts())"
   ]
  },
  {
   "cell_type": "code",
   "execution_count": 14,
   "id": "e1c40045",
   "metadata": {},
   "outputs": [
    {
     "data": {
      "text/plain": [
       "<AxesSubplot:xlabel='Publisher\\r\\n'>"
      ]
     },
     "execution_count": 14,
     "metadata": {},
     "output_type": "execute_result"
    },
    {
     "data": {
      "image/png": "[encoded data removed]",
      "text/plain": [
       "<Figure size 432x288 with 1 Axes>"
      ]
     },
     "metadata": {
      "needs_background": "light"
     },
     "output_type": "display_data"
    }
   ],
   "source": [
    "# 2b. Visualize the output of (a) using a chart of your own choice\n",
    "Freq_count.value_counts().plot(kind='bar')"
   ]
  },
  {
   "cell_type": "code",
   "execution_count": 16,
   "id": "a2c75d6a",
   "metadata": {},
   "outputs": [
    {
     "name": "stdout",
     "output_type": "stream",
     "text": [
      "PubDate\n",
      "2017       5\n",
      "2016       4\n",
      "2013       1\n",
      "dtype: int64\n"
     ]
    }
   ],
   "source": [
    "# 2.c Print the frequency count for year of publication\n",
    "\n",
    "dates = []\n",
    "for date in df['PubDate\\r\\n'].dropna():\n",
    "    date = '20' + date[-2:]\n",
    "    dates.append(date)\n",
    "df = pd.Series(dates, name = 'PubDate')\n",
    "Freq_Years = df.to_frame()\n",
    "print(Freq_Years.value_counts())\n"
   ]
  },
  {
   "cell_type": "code",
   "execution_count": 22,
   "id": "ba641e59",
   "metadata": {},
   "outputs": [
    {
     "data": {
      "text/plain": [
       "<AxesSubplot:xlabel='PubDate'>"
      ]
     },
     "execution_count": 22,
     "metadata": {},
     "output_type": "execute_result"
    },
    {
     "data": {
      "image/png": "[encoded data removed]",
      "text/plain": [
       "<Figure size 432x288 with 1 Axes>"
      ]
     },
     "metadata": {
      "needs_background": "light"
     },
     "output_type": "display_data"
    }
   ],
   "source": [
    "# 2.d Visualize the output of (b) using a chart of your own choice\n",
    "\n",
    "Freq_Years.value_counts().plot(kind='bar')"
   ]
  }
 ],
 "metadata": {
  "kernelspec": {
   "display_name": "Python 3 (ipykernel)",
   "language": "python",
   "name": "python3"
  },
  "language_info": {
   "codemirror_mode": {
    "name": "ipython",
    "version": 3
   },
   "file_extension": ".py",
   "mimetype": "text/x-python",
   "name": "python",
   "nbconvert_exporter": "python",
   "pygments_lexer": "ipython3",
   "version": "3.9.7"
  }
 },
 "nbformat": 4,
 "nbformat_minor": 5
}
